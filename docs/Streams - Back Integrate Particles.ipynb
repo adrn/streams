{
 "metadata": {
  "name": "Streams - Back Integrate Particles"
 },
 "nbformat": 3,
 "nbformat_minor": 0,
 "worksheets": [
  {
   "cells": [
    {
     "cell_type": "code",
     "collapsed": false,
     "input": [
      "import sys\n",
      "sys.path.append(\"/Users/adrian/projects/streams\")\n",
      "\n",
      "import astropy.coordinates as coord\n",
      "import astropy.units as u\n",
      "\n",
      "from streams.data import SgrStars\n",
      "from streams.potential import *\n",
      "from streams.integrate import leapfrog"
     ],
     "language": "python",
     "metadata": {},
     "outputs": [],
     "prompt_number": 1
    },
    {
     "cell_type": "code",
     "collapsed": false,
     "input": [],
     "language": "python",
     "metadata": {},
     "outputs": []
    }
   ],
   "metadata": {}
  }
 ]
}