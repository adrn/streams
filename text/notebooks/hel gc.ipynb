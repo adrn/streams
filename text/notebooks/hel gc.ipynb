{
 "metadata": {
  "name": ""
 },
 "nbformat": 3,
 "nbformat_minor": 0,
 "worksheets": [
  {
   "cells": [
    {
     "cell_type": "markdown",
     "metadata": {},
     "source": [
      "Test coordinate conversions"
     ]
    },
    {
     "cell_type": "code",
     "collapsed": false,
     "input": [
      "import os\n",
      "from streams.coordinates import _hel_to_gc, _gc_to_hel\n",
      "import streams.io as io"
     ],
     "language": "python",
     "metadata": {},
     "outputs": [],
     "prompt_number": 72
    },
    {
     "cell_type": "code",
     "collapsed": false,
     "input": [
      "data_file = \"N128_no_errors.hdf5\"\n",
      "d_path = \"/Users/adrian/projects/streams/data/observed_particles/\"\n",
      "d = io.read_hdf5(os.path.join(d_path, data_file))"
     ],
     "language": "python",
     "metadata": {},
     "outputs": [],
     "prompt_number": 73
    },
    {
     "cell_type": "code",
     "collapsed": false,
     "input": [
      "def jacobian(hel):\n",
      "    l,b,d,mul,mub,vr = hel.T\n",
      "    cosl, sinl = np.cos(l), np.sin(l)\n",
      "    cosb, sinb = np.cos(b), np.sin(b)\n",
      "\n",
      "    gc = _hel_to_gc(hel)\n",
      "    x,y,z,vx,vy,vz = gc.T\n",
      "    \n",
      "    row0 = np.zeros_like(hel.T)\n",
      "    row0[0] = -d*sinl*cosb\n",
      "    row0[1] = -d*cosl*sinb\n",
      "    row0[2] = cosl*cosb\n",
      "    \n",
      "    row1 = np.zeros_like(hel.T)\n",
      "    row1[0] = d*cosl*cosb\n",
      "    row1[1] = -d*sinl*sinb\n",
      "    row1[2] = sinl*cosb\n",
      "    \n",
      "    row2 = np.zeros_like(hel.T)\n",
      "    row2[0] = 0.\n",
      "    row2[1] = -d*cosb\n",
      "    row2[2] = sinb\n",
      "\n",
      "    row3 = [-vr*cosb*sinl + mul*d*cosb*cosl - mub*d*sinb*sinl,\n",
      "            -vr*sinb*cosl - mul*d*sinb*sinl + mub*d*cosb*cosl,\n",
      "            cosb*sinl*mul + sinb*cosl*mub,\n",
      "            d*cosb*sinl, \n",
      "            d*sinb*cosl,\n",
      "            cosb*cosl]\n",
      "\n",
      "    row4 = [vr*cosb*cosl + mul*d*cosb*sinl + mub*d*sinb*cosl,\n",
      "            -vr*sinb*sinl + mul*d*sinb*cosl + mub*d*cosb*sinl,\n",
      "            -cosb*cosl*mul + sinb*sinl*mub,\n",
      "            -d*cosb*cosl, \n",
      "            d*sinb*sinl,\n",
      "            cosb*sinl]\n",
      "    \n",
      "    row5 = np.zeros_like(hel.T)\n",
      "    row5[0] = 0.\n",
      "    row5[1] = cosb*vr + d*sinb*mub\n",
      "    row5[2] = -cosb*mub\n",
      "    row5[3] = 0.\n",
      "    row5[4] = -d*cosb\n",
      "    row5[5] = sinb\n",
      "\n",
      "    return np.array([row0, row1, row2, row3, row4, row5])"
     ],
     "language": "python",
     "metadata": {},
     "outputs": [],
     "prompt_number": 74
    },
    {
     "cell_type": "code",
     "collapsed": false,
     "input": [
      "%timeit jacobian(hel)"
     ],
     "language": "python",
     "metadata": {},
     "outputs": [
      {
       "output_type": "stream",
       "stream": "stdout",
       "text": [
        "1000 loops, best of 3: 345 \u00b5s per loop\n"
       ]
      }
     ],
     "prompt_number": 51
    },
    {
     "cell_type": "code",
     "collapsed": false,
     "input": [
      "hel = d['particles']._X[:10]\n",
      "for ii,m in enumerate(jacobian(hel).T):\n",
      "    print hel[ii][2], np.abs(np.linalg.det(m)), np.abs(np.linalg.slogdet(m))"
     ],
     "language": "python",
     "metadata": {},
     "outputs": [
      {
       "output_type": "stream",
       "stream": "stdout",
       "text": [
        "56.3708109181 1261523.16865 [  1.          14.04783041]\n",
        "31.7625751181 1005137.42152 [  1.          13.82063483]\n",
        "23.7598228432 36958.8744509 [  1.          10.51756107]\n",
        "43.2430967658 287848.447726 [  1.         12.5701894]\n",
        "11.2625263651 1956.86201039 [ 1.          7.57909745]\n",
        "50.6587098234 6508172.53458 [  1.          15.68856926]\n",
        "14.7957139488 40865.7086462 [  1.          10.61804657]\n",
        "33.6964569479 157105.415303 [  1.          11.96467229]\n",
        "66.4787289168 3360935.34345 [  1.          15.02772987]\n",
        "48.4900172199 4835328.24178 [  1.          15.39145957]\n"
       ]
      }
     ],
     "prompt_number": 76
    },
    {
     "cell_type": "code",
     "collapsed": false,
     "input": [
      "import punkd"
     ],
     "language": "python",
     "metadata": {},
     "outputs": [],
     "prompt_number": 59
    },
    {
     "cell_type": "code",
     "collapsed": false,
     "input": [
      "from IPython.display import HTML"
     ],
     "language": "python",
     "metadata": {},
     "outputs": [],
     "prompt_number": 61
    },
    {
     "cell_type": "code",
     "collapsed": false,
     "input": [
      "Javascript('console.log($(\"#notebook\"));');"
     ],
     "language": "python",
     "metadata": {},
     "outputs": [],
     "prompt_number": 71
    },
    {
     "cell_type": "code",
     "collapsed": false,
     "input": [],
     "language": "python",
     "metadata": {},
     "outputs": []
    }
   ],
   "metadata": {}
  }
 ]
}