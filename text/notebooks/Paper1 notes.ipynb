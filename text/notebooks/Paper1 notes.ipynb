{
 "metadata": {
  "name": "Paper1 notes"
 },
 "nbformat": 3,
 "nbformat_minor": 0,
 "worksheets": [
  {
   "cells": [
    {
     "cell_type": "markdown",
     "metadata": {},
     "source": [
      "What magnitude star will have 10% distance errors from Gaia?"
     ]
    },
    {
     "cell_type": "code",
     "collapsed": false,
     "input": [
      "from streams.observation.gaia import parallax_error\n",
      "from streams.observation.rrlyrae import rrl_M_V, rrl_V_minus_I"
     ],
     "language": "python",
     "metadata": {},
     "outputs": [],
     "prompt_number": 1
    },
    {
     "cell_type": "code",
     "collapsed": false,
     "input": [
      "def apparent_magnitude(M_V, d):\n",
      "    dimless = (d/(10*u.pc)).decompose().value\n",
      "    return 5.*np.log10(dimless) + M_V"
     ],
     "language": "python",
     "metadata": {},
     "outputs": [],
     "prompt_number": 4
    },
    {
     "cell_type": "code",
     "collapsed": false,
     "input": [
      "distance = 6.*u.kpc"
     ],
     "language": "python",
     "metadata": {},
     "outputs": [],
     "prompt_number": 56
    },
    {
     "cell_type": "code",
     "collapsed": false,
     "input": [
      "M_V,dmv = rrl_M_V(-1.5)\n",
      "V = apparent_magnitude(M_V, d=distance)\n",
      "dp = parallax_error(V, rrl_V_minus_I)"
     ],
     "language": "python",
     "metadata": {},
     "outputs": [],
     "prompt_number": 57
    },
    {
     "cell_type": "code",
     "collapsed": false,
     "input": [
      "p = (1.*u.au / distance).decompose() * 180. / np.pi * u.deg\n",
      "p"
     ],
     "language": "python",
     "metadata": {},
     "outputs": [
      {
       "latex": [
        "$4.62963\\times 10^{-08} \\; \\mathrm{{}^{\\circ}}$"
       ],
       "metadata": {},
       "output_type": "pyout",
       "prompt_number": 58,
       "text": [
        "<Quantity 4.62962962967e-08 deg>"
       ]
      }
     ],
     "prompt_number": 58
    },
    {
     "cell_type": "code",
     "collapsed": false,
     "input": [
      "dist_err = dp.arcsecond / p.arcsecond**2 * u.pc\n",
      "dist_err.kiloparsec / distance.kiloparsec"
     ],
     "language": "python",
     "metadata": {},
     "outputs": [
      {
       "metadata": {},
       "output_type": "pyout",
       "prompt_number": 60,
       "text": [
        "0.10801444890026268"
       ]
      }
     ],
     "prompt_number": 60
    },
    {
     "cell_type": "heading",
     "level": 4,
     "metadata": {},
     "source": [
      "So, the parallax distance error is 10% for an RR Lyrae at 6 kpc"
     ]
    },
    {
     "cell_type": "markdown",
     "metadata": {},
     "source": [
      "---"
     ]
    },
    {
     "cell_type": "code",
     "collapsed": false,
     "input": [
      "    "
     ],
     "language": "python",
     "metadata": {},
     "outputs": []
    }
   ],
   "metadata": {}
  }
 ]
}