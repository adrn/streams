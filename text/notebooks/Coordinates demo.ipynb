{
 "metadata": {
  "name": ""
 },
 "nbformat": 3,
 "nbformat_minor": 0,
 "worksheets": [
  {
   "cells": [
    {
     "cell_type": "code",
     "collapsed": false,
     "input": [
      "import astropy.units as u\n",
      "from streams.coordinates import gc_to_hel, hel_to_gc"
     ],
     "language": "python",
     "metadata": {},
     "outputs": [],
     "prompt_number": 1
    },
    {
     "cell_type": "code",
     "collapsed": false,
     "input": [
      "x,y,z = np.random.random(size=(3,5))*u.kpc\n",
      "vx,vy,vz = np.random.random(size=(3,5))*200*u.km/u.s\n",
      "print x"
     ],
     "language": "python",
     "metadata": {},
     "outputs": [
      {
       "output_type": "stream",
       "stream": "stdout",
       "text": [
        "[ 0.60197768  0.24073081  0.47762322  0.95699249  0.8973263 ] kpc\n"
       ]
      }
     ],
     "prompt_number": 2
    },
    {
     "cell_type": "code",
     "collapsed": false,
     "input": [
      "l,b,D,mu_l,mu_b,vr = gc_to_hel(x,y,z,vx,vy,vz,\n",
      "                               R_sun=8*u.kpc,\n",
      "                               v_sun_circ=220.*u.km/u.s,\n",
      "                               v_sun_lsr=[10., 5.23, 7.17]*u.km/u.s) # Dehnen & Binney 1998\n",
      "print D"
     ],
     "language": "python",
     "metadata": {},
     "outputs": [
      {
       "output_type": "stream",
       "stream": "stdout",
       "text": [
        "[ 8.65505077  8.30409577  8.48294692  8.99229498  8.91660981] kpc\n"
       ]
      }
     ],
     "prompt_number": 3
    },
    {
     "cell_type": "code",
     "collapsed": false,
     "input": [
      "x,y,z,vx,vy,vz = hel_to_gc(l,b,D,mu_l,mu_b,vr,\n",
      "                           R_sun=8*u.kpc,\n",
      "                           v_sun_circ=220.*u.km/u.s,\n",
      "                           v_sun_lsr=[10., 5.23, 7.17]*u.km/u.s) # Dehnen & Binney 1998\n",
      "print x"
     ],
     "language": "python",
     "metadata": {},
     "outputs": [
      {
       "output_type": "stream",
       "stream": "stdout",
       "text": [
        "[ 0.60197768  0.24073081  0.47762322  0.95699249  0.8973263 ] kpc\n"
       ]
      }
     ],
     "prompt_number": 4
    }
   ],
   "metadata": {}
  }
 ]
}