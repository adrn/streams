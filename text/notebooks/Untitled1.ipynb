{
 "metadata": {
  "name": "Untitled1"
 },
 "nbformat": 3,
 "nbformat_minor": 0,
 "worksheets": [
  {
   "cells": [
    {
     "cell_type": "code",
     "collapsed": false,
     "input": [
      "from astropy.io import ascii\n",
      "import astropy.units as u\n",
      "from streams.coordinates import ra_dec_dist_to_xyz"
     ],
     "language": "python",
     "metadata": {},
     "outputs": [],
     "prompt_number": 3
    },
    {
     "cell_type": "code",
     "collapsed": false,
     "input": [
      "stripe82_catalog = \"\"\"ra dec dist\n",
      "14.616653 -0.75063 21.78\n",
      "23.470286 -0.75074 20.02\n",
      "25.920219 0.507809 18.37\n",
      "28.105067 -0.28684 10.56\n",
      "27.339723 -0.222394 19.37\n",
      "28.709058 0.250204 7.59\n",
      "29.908223 1.222851 18.35\n",
      "27.37402 0.155047 19.87\n",
      "25.46789 -0.89094 8.5\n",
      "33.55261 0.660465 12.87\n",
      "30.691522 -0.000466 20.11\n",
      "30.13114 0.994329 20.66\n",
      "32.419304 -0.036812 18.26\n",
      "32.717291 0.631938 16.35\n",
      "37.29115 1.07193 17.18\n",
      "35.274198 -0.647943 12.27\n",
      "40.612944 1.225526 7.29\n",
      "40.508969 0.665032 20.11\n",
      "44.338191 -0.220803 17.3\n",
      "46.057459 -1.220635 18.74\n",
      "47.609341 0.461527 9.4\n",
      "52.601027 1.209482 9.24\n",
      "51.883696 0.064283 17.62\n",
      "53.635031 0.026812 7.44\n",
      "53.80621 1.068064 10.51\n",
      "56.963075 -0.291889 11.96\n",
      "59.037319 -0.08628 7.19\n",
      "58.036886 0.999678 8.18\"\"\""
     ],
     "language": "python",
     "metadata": {},
     "outputs": [],
     "prompt_number": 4
    },
    {
     "cell_type": "code",
     "collapsed": false,
     "input": [
      "s82 = ascii.read(stripe82_catalog)\n",
      "xyz = ra_dec_dist_to_xyz(s82['ra']*u.deg, s82['dec']*u.deg, \n",
      "                         s82['dist']*u.kpc)"
     ],
     "language": "python",
     "metadata": {},
     "outputs": [],
     "prompt_number": 5
    },
    {
     "cell_type": "code",
     "collapsed": false,
     "input": [
      "scatter(xyz[:,0], xyz[:,2])\n",
      "xlim(-90, 50)\n",
      "ylim(-50, 60)"
     ],
     "language": "python",
     "metadata": {},
     "outputs": [
      {
       "metadata": {},
       "output_type": "pyout",
       "prompt_number": 7,
       "text": [
        "(-50, 60)"
       ]
      },
      {
       "metadata": {},
       "output_type": "display_data",
       "png": "[encoded data removed]",
       "text": [
        "<matplotlib.figure.Figure at 0x106737c10>"
       ]
      }
     ],
     "prompt_number": 7
    },
    {
     "cell_type": "code",
     "collapsed": false,
     "input": [],
     "language": "python",
     "metadata": {},
     "outputs": []
    }
   ],
   "metadata": {}
  }
 ]
}