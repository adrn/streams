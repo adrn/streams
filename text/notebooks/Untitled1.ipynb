{
 "metadata": {
  "name": ""
 },
 "nbformat": 3,
 "nbformat_minor": 0,
 "worksheets": [
  {
   "cells": [
    {
     "cell_type": "code",
     "collapsed": false,
     "input": [
      "import acor\n",
      "from astropy.io.misc import fnunpickle"
     ],
     "language": "python",
     "metadata": {},
     "outputs": [],
     "prompt_number": 7
    },
    {
     "cell_type": "code",
     "collapsed": false,
     "input": [
      "fn = \"/Users/adrian/Downloads/SMASH_mini/sampler_data.pickle\"\n",
      "sampler = fnunpickle(fn)"
     ],
     "language": "python",
     "metadata": {},
     "outputs": [],
     "prompt_number": 3
    },
    {
     "cell_type": "code",
     "collapsed": false,
     "input": [
      "n_walkers,n_steps,n_dim = sampler.chain.shape\n",
      "\n",
      "t = np.zeros((n_walkers,n_dim))\n",
      "s = np.zeros((n_walkers,n_dim))\n",
      "for ii,ch in enumerate(sampler.chain):\n",
      "    for jj in range(4):\n",
      "        try:\n",
      "            tau,mean,sigma = acor.acor(ch[:,jj])\n",
      "            t[ii,jj] = tau\n",
      "            s[ii,jj] = sigma\n",
      "        except RuntimeError:\n",
      "            t[ii,jj] = 9999.\n",
      "            s[ii,jj] = 9999."
     ],
     "language": "python",
     "metadata": {},
     "outputs": [],
     "prompt_number": 19
    },
    {
     "cell_type": "code",
     "collapsed": false,
     "input": [
      "max_tau = np.max(t, axis=1)\n",
      "sigma = np.sum(s**2, axis=1)\n",
      "\n",
      "subplot(121)\n",
      "hist(max_tau[max_tau < 9999])\n",
      "subplot(122)\n",
      "hist(sigma[sigma < 9999])"
     ],
     "language": "python",
     "metadata": {},
     "outputs": [
      {
       "metadata": {},
       "output_type": "pyout",
       "prompt_number": 20,
       "text": [
        "(array([14,  5,  5,  1,  2,  3,  0,  0,  0,  1]),\n",
        " array([ 0.00033167,  0.00251732,  0.00470298,  0.00688864,  0.00907429,\n",
        "        0.01125995,  0.0134456 ,  0.01563126,  0.01781692,  0.02000257,\n",
        "        0.02218823]),\n",
        " <a list of 10 Patch objects>)"
       ]
      },
      {
       "metadata": {},
       "output_type": "display_data",
       "png": "[encoded data removed]",
       "text": [
        "<matplotlib.figure.Figure at 0x107e8e250>"
       ]
      }
     ],
     "prompt_number": 20
    },
    {
     "cell_type": "code",
     "collapsed": false,
     "input": [
      "chain = sampler.chain[sigma < 0.0075]\n",
      "flatchain = np.vstack(chain[:,25:])"
     ],
     "language": "python",
     "metadata": {},
     "outputs": [],
     "prompt_number": 24
    },
    {
     "cell_type": "code",
     "collapsed": false,
     "input": [
      "for ii in range(4):\n",
      "    subplot(2,2,ii+1)\n",
      "    hist(flatchain[:,ii])"
     ],
     "language": "python",
     "metadata": {},
     "outputs": [
      {
       "metadata": {},
       "output_type": "display_data",
       "png": "[encoded data removed]",
       "text": [
        "<matplotlib.figure.Figure at 0x108440790>"
       ]
      }
     ],
     "prompt_number": 26
    },
    {
     "cell_type": "code",
     "collapsed": false,
     "input": [],
     "language": "python",
     "metadata": {},
     "outputs": []
    }
   ],
   "metadata": {}
  }
 ]
}