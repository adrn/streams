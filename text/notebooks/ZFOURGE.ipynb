{
 "metadata": {
  "name": ""
 },
 "nbformat": 3,
 "nbformat_minor": 0,
 "worksheets": [
  {
   "cells": [
    {
     "cell_type": "code",
     "collapsed": false,
     "input": [
      "import os\n",
      "from astropy.io import ascii\n",
      "from astropy.table import join\n",
      "from streams.util import project_root"
     ],
     "language": "python",
     "metadata": {},
     "outputs": [],
     "prompt_number": 10
    },
    {
     "cell_type": "code",
     "collapsed": false,
     "input": [
      "zf_path = os.path.join(project_root, \"data\", \"catalog\", \"zfourge_v2.1\")\n",
      "_catalog_filenames = [\"cdfs.v0.4.8.a.cat\", \"cosmos.v0.10.7.a.cat\", \"uds.v0.0.15.a.cat\"]\n",
      "catalog_filenames = [os.path.join(zf_path, x) for x in _catalog_filenames]"
     ],
     "language": "python",
     "metadata": {},
     "outputs": [],
     "prompt_number": 5
    },
    {
     "cell_type": "code",
     "collapsed": false,
     "input": [
      "tables = []\n",
      "for cfile in catalog_filenames:\n",
      "    t = ascii.read(cfile)\n",
      "    tables.append(t)"
     ],
     "language": "python",
     "metadata": {},
     "outputs": [],
     "prompt_number": 30
    },
    {
     "cell_type": "markdown",
     "metadata": {},
     "source": [
      "Stars with Rc-Ic < 1.15 and U-B < 0\n",
      "\n",
      "    u-g    =    1.28*(U-B)   + 1.14      0.05\n",
      "    g-r    =    1.09*(B-V)   - 0.23      0.04\n",
      "    r-i    =    0.98*(Rc-Ic) - 0.22      0.01\n",
      "    r-z    =    1.69*(Rc-Ic) - 0.42      0.03\n",
      "    g      =    V + 0.64*(B-V) - 0.13    0.01\n",
      "    r      =    V - 0.46*(B-V) + 0.11    0.03\n",
      "\n",
      "\n",
      "All stars with Rc-Ic < 1.15\n",
      "\n",
      "        Transformation                RMS residual\n",
      "    u-g    =    1.28*(U-B)   + 1.13      0.06\n",
      "    g-r    =    1.02*(B-V)   - 0.22      0.04\n",
      "    r-i    =    0.91*(Rc-Ic) - 0.20      0.03\n",
      "    r-z    =    1.72*(Rc-Ic) - 0.41      0.03\n",
      "    g      =    V + 0.60*(B-V) - 0.12    0.02\n",
      "    r      =    V - 0.42*(B-V) + 0.11    0.03"
     ]
    },
    {
     "cell_type": "code",
     "collapsed": false,
     "input": [
      "for t in tables:\n",
      "    stars = t[(t['starflag'] == 1) & (t['SEflags'] == 0)]\n",
      "    \n",
      "    if 'i' in stars.colnames:\n",
      "        _u,_i,_z = 'uiz'\n",
      "    else:\n",
      "        _u,_i,_z = 'UIZ'\n",
      "        \n",
      "    idx = ((stars['R'] - stars[_i]) < 1.15) & (stars['eR'] > 0.) & (stars['e{0}'.format(_i)] > 0.)\n",
      "    good_stars = stars[idx]\n",
      "    \n",
      "    g = good_stars['V'] + 0.6*(good_stars['B']-good_stars['V']) - 0.12\n",
      "    r = good_stars['V'] - 0.42*(good_stars['B']-good_stars['V']) + 0.11\n",
      "    if _u == 'u':\n",
      "        u_g = good_stars[_u] - g\n",
      "        g_r = g - r\n",
      "        r_i = r - good_stars[_i]\n",
      "        r_z = r - good_stars[_z]\n",
      "    else:\n",
      "        u_g = 1.28*(good_stars[_u]-good_stars['B']) + 1.13\n",
      "        g_r = 1.28*(good_stars['B']-good_stars['V']) - 0.22\n",
      "        r_i = 0.91*(good_stars['R']-good_stars[_i]) - 0.2\n",
      "        r_z = 1.72*(good_stars['R']-good_stars[_i]) - 0.41\n",
      "    \n",
      "    subplot(221)\n",
      "    plot(u_g, g_r, marker='.', alpha=0.5, linestyle='none')\n",
      "    xlim(-1,3)\n",
      "    ylim(-1,3)\n",
      "    \n",
      "    subplot(223)\n",
      "    plot(u_g, r_i, marker='.', alpha=0.5, linestyle='none')\n",
      "    xlim(-1,3)\n",
      "    ylim(-1,3)\n",
      "    \n",
      "    subplot(224)\n",
      "    plot(g_r, r_i, marker='.', alpha=0.5, linestyle='none')\n",
      "    xlim(-1,3)\n",
      "    ylim(-1,3)\n",
      "    \n",
      "    #rr_lyr = (0.99 < u_g) & (u_g < 1.28) & (-0.11 < g_r) & (g_r < 0.31) & (-0.13 < r_i) & (r_i < 0.20)"
     ],
     "language": "python",
     "metadata": {},
     "outputs": [
      {
       "metadata": {},
       "output_type": "display_data",
       "png": "[encoded data removed]",
       "text": [
        "<matplotlib.figure.Figure at 0x10c648910>"
       ]
      }
     ],
     "prompt_number": 82
    },
    {
     "cell_type": "markdown",
     "metadata": {},
     "source": [
      "Note: Ok, so colors are fucked?"
     ]
    },
    {
     "cell_type": "code",
     "collapsed": false,
     "input": [],
     "language": "python",
     "metadata": {},
     "outputs": []
    }
   ],
   "metadata": {}
  }
 ]
}