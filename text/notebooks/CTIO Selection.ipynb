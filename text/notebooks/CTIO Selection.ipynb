{
 "metadata": {
  "name": "Streams - CTIO Selection"
 },
 "nbformat": 3,
 "nbformat_minor": 0,
 "worksheets": [
  {
   "cells": [
    {
     "cell_type": "code",
     "collapsed": false,
     "input": [
      "from astropy.io import ascii\n",
      "import astropy.coordinates as coord\n",
      "import astropy.units as u\n",
      "from astropy.table import Table, Column\n",
      "from astropy.time import Time\n",
      "\n",
      "from streams.data import read_quest, combine_catalogs, read_stripe82"
     ],
     "language": "python",
     "metadata": {},
     "outputs": [],
     "prompt_number": 28
    },
    {
     "cell_type": "code",
     "collapsed": false,
     "input": [
      "def crossmatch_tables(tbl1, tbl2, tolerance=1.*u.arcsecond, coordinate_columns=[\"ra\", \"dec\"]):\n",
      "    tbl1_coords = [coord.ICRSCoordinates(row['ra'],row['dec'],unit=(u.deg,u.deg)) for row in tbl1]\n",
      "    tbl2_coords = [coord.ICRSCoordinates(row['ra'],row['dec'],unit=(u.deg,u.deg)) for row in tbl2]\n",
      "    \n",
      "    mapper = dict()\n",
      "    for ii,c1 in enumerate(tbl1_coords):\n",
      "        seps = []\n",
      "        for jj,c2 in enumerate(tbl2_coords):\n",
      "            sep = c1.separation(c2).degrees*u.deg\n",
      "            seps.append(sep.arcsecond)\n",
      "            if sep < tolerance:\n",
      "                mapper[ii] = jj\n",
      "    \n",
      "    return mapper"
     ],
     "language": "python",
     "metadata": {},
     "outputs": [],
     "prompt_number": 11
    },
    {
     "cell_type": "code",
     "collapsed": false,
     "input": [
      "c1 = ascii.read(\"/Users/adrian/Downloads/Sgr_list_hi.txt\", names=[\"ID\", \"_ra\", \"_dec\"], data_start=0)\n",
      "c1.add_column(Column(data=[coord.Angle(x, unit=u.hour).degrees for x in c1['_ra']], name='ra'))\n",
      "c1.add_column(Column(data=[coord.Angle(x, unit=u.degree).degrees for x in c1['_dec']], name='dec'))\n",
      "\n",
      "quest = read_quest()\n",
      "quest = quest[quest['Type'] == 'ab']\n",
      "\n",
      "s82 = read_stripe82()\n",
      "t = Time(s82['T0.r'], format='mjd', scale='utc')\n",
      "s82.add_column(Column(data=t.jd, name='HJD'))\n",
      "    \n",
      "c2 = combine_catalogs(QUEST=quest, Stripe82=s82)"
     ],
     "language": "python",
     "metadata": {},
     "outputs": [],
     "prompt_number": 12
    },
    {
     "cell_type": "code",
     "collapsed": false,
     "input": [
      "c1_to_c2 = crossmatch_tables(c1, c2, tolerance=2.*u.arcsecond)"
     ],
     "language": "python",
     "metadata": {},
     "outputs": [],
     "prompt_number": 13
    },
    {
     "cell_type": "code",
     "collapsed": false,
     "input": [
      "jd1 = 2456489.50 # july 16\n",
      "jd2 = 2456492.50 # july 19\n",
      "\n",
      "def find_times(period, jd0):\n",
      "    jd_max = []\n",
      "    jd_min = []\n",
      "    \n",
      "    jd = jd0\n",
      "    while jd < jd1:\n",
      "        jd += period\n",
      "    \n",
      "    while jd < jd2:\n",
      "        jd_max.append(jd)\n",
      "        jd_min.append(jd + 0.5*period)\n",
      "        jd += period\n",
      "    \n",
      "    return jd_max, jd_min"
     ],
     "language": "python",
     "metadata": {},
     "outputs": [],
     "prompt_number": 24
    },
    {
     "cell_type": "code",
     "collapsed": false,
     "input": [
      "new_table = dict()\n",
      "new_table['id'] = []\n",
      "new_table['ra'] = []\n",
      "new_table['dec'] = []\n",
      "new_table['Vmag'] = []\n",
      "new_table['period'] = []\n",
      "new_table['jd_min'] = []\n",
      "new_table['jd_max'] = []\n",
      "\n",
      "for c1_i, c2_i in c1_to_c2.items():\n",
      "    new_table['id'].append(c1[c1_i]['ID'])\n",
      "    new_table['ra'].append(c2[c2_i]['ra'])\n",
      "    new_table['dec'].append(c2[c2_i]['dec'])\n",
      "    new_table['Vmag'].append(c2[c2_i]['V'])\n",
      "    \n",
      "    period = c2[c2_i]['Per']\n",
      "    new_table['period'].append(period)\n",
      "    jd_max, jd_min = find_times(period, c2[c2_i]['HJD'])\n",
      "    new_table['jd_min'].append(jd_min)\n",
      "    new_table['jd_max'].append(jd_max)"
     ],
     "language": "python",
     "metadata": {},
     "outputs": [],
     "prompt_number": 27
    },
    {
     "cell_type": "code",
     "collapsed": false,
     "input": [
      "t = Table(new_table, names=['id', 'ra', 'dec', 'Vmag', 'period', 'jd_min', 'jd_max'])\n",
      "t.sort('period')"
     ],
     "language": "python",
     "metadata": {},
     "outputs": [],
     "prompt_number": 39
    },
    {
     "cell_type": "code",
     "collapsed": false,
     "input": [
      "t.write('/Users/adrian/projects/streams/data/CTIO/RRLyr_queue.txt', format='ascii')"
     ],
     "language": "python",
     "metadata": {},
     "outputs": [],
     "prompt_number": 51
    },
    {
     "cell_type": "code",
     "collapsed": false,
     "input": [],
     "language": "python",
     "metadata": {},
     "outputs": []
    }
   ],
   "metadata": {}
  }
 ]
}