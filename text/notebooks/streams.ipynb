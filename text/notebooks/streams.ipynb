{
 "metadata": {
  "name": "streams"
 },
 "nbformat": 3,
 "nbformat_minor": 0,
 "worksheets": [
  {
   "cells": [
    {
     "cell_type": "code",
     "collapsed": false,
     "input": [
      "import back_integrate\n",
      "back_integrate.gal_potential"
     ],
     "language": "python",
     "metadata": {},
     "outputs": [
      {
       "latex": [
        "$\\textbf{bulge}: \\Phi_{bulge} = -\\frac{GM_{bulge}}{r + c}, \\textbf{disk}: \\Phi_{disk} = - \\frac{GM_{disk}}{\\sqrt{r^2 + (a + \\sqrt{z^2 + b^2})^2}}, \\textbf{halo}: \\Phi_{halo} = \\frac{v_{circ}^2}{2} \\ln(x^2 + y^2/p^2 + z^2/q^2 + d^2), $"
       ],
       "output_type": "pyout",
       "prompt_number": 1,
       "text": [
        "<back_integrate.GalacticPotential at 0x108c777d0>"
       ]
      }
     ],
     "prompt_number": 1
    },
    {
     "cell_type": "code",
     "collapsed": false,
     "input": [],
     "language": "python",
     "metadata": {},
     "outputs": []
    }
   ],
   "metadata": {}
  }
 ]
}