{
 "metadata": {
  "name": ""
 },
 "nbformat": 3,
 "nbformat_minor": 0,
 "worksheets": [
  {
   "cells": [
    {
     "cell_type": "code",
     "collapsed": false,
     "input": [
      "import astropy.units as u\n",
      "import emcee\n",
      "import triangle\n",
      "\n",
      "from streams.io.sgr import mass_selector\n",
      "from streams.potential.lm10 import LawMajewski2010, _true_params\n",
      "from streams.inference.back_integrate import back_integrate_likelihood, _hel_to_gc, _gc_to_hel\n",
      "from streams.observation.gaia import add_uncertainties_to_particles, rr_lyrae_observational_errors\n",
      "from streams.coordinates import gc_to_hel\n",
      "\n",
      "from streams.dynamics import Particle\n",
      "from streams.inference import generalized_variance\n",
      "from streams.integrate.satellite_particles import satellite_particles_integrate"
     ],
     "language": "python",
     "metadata": {},
     "outputs": [],
     "prompt_number": 12
    },
    {
     "cell_type": "code",
     "collapsed": false,
     "input": [
      "particles_today, satellite_today, time = mass_selector(\"2.5e7\")"
     ],
     "language": "python",
     "metadata": {},
     "outputs": [],
     "prompt_number": 13
    },
    {
     "cell_type": "code",
     "collapsed": false,
     "input": [
      "def particles_to_heliocentric(particles):\n",
      "    # Transform to heliocentric coordinates\n",
      "    return gc_to_hel(particles.r[:,0], particles.r[:,1], particles.r[:,2],\n",
      "                     particles.v[:,0], particles.v[:,1], particles.v[:,2])"
     ],
     "language": "python",
     "metadata": {},
     "outputs": [],
     "prompt_number": 14
    },
    {
     "cell_type": "code",
     "collapsed": false,
     "input": [
      "Nparticles = 100\n",
      "\n",
      "np.random.seed(552)\n",
      "satellite = satellite_today()\n",
      "true_particles = particles_today(N=Nparticles, expr=\"(tub!=0)\")\n",
      "t1,t2 = time()"
     ],
     "language": "python",
     "metadata": {},
     "outputs": [],
     "prompt_number": 15
    },
    {
     "cell_type": "code",
     "collapsed": false,
     "input": [
      "data_particles = add_uncertainties_to_particles(true_particles[:])\n",
      "_data = particles_to_heliocentric(data_particles)\n",
      "_data_errors = rr_lyrae_observational_errors(*_data)\n",
      "\n",
      "usys = [u.kpc, u.Myr, u.radian, u.M_sun]\n",
      "data = np.zeros((Nparticles, 6))\n",
      "data_errors = np.zeros((Nparticles, 6))\n",
      "for ii,q in enumerate(_data):\n",
      "    data[:,ii] = q.decompose(usys).value\n",
      "    data_errors[:,ii] = _data_errors[ii].decompose(usys).value"
     ],
     "language": "python",
     "metadata": {},
     "outputs": [],
     "prompt_number": 16
    },
    {
     "cell_type": "code",
     "collapsed": false,
     "input": [
      "np.random.seed(42)\n",
      "true_x_0 = _hel_to_gc(np.random.normal(data, data_errors))\n",
      "p = [1.38] + \\\n",
      "    list(true_x_0.ravel()) + \\\n",
      "    [int(tub) for tub in true_particles.tub]\n",
      "potential_params = ['q1']\n",
      "\n",
      "back_integrate_likelihood(p, potential_params, satellite, \n",
      "                          data, data_errors, \n",
      "                          LawMajewski2010, t1, t2)"
     ],
     "language": "python",
     "metadata": {},
     "outputs": [
      {
       "metadata": {},
       "output_type": "pyout",
       "prompt_number": 17,
       "text": [
        "-262737.45662851783"
       ]
      }
     ],
     "prompt_number": 17
    },
    {
     "cell_type": "code",
     "collapsed": false,
     "input": [
      "%timeit back_integrate_likelihood(p, potential_params, satellite, \\\n",
      "                          data, data_errors, \\\n",
      "                          LawMajewski2010, t1, t2)"
     ],
     "language": "python",
     "metadata": {},
     "outputs": [
      {
       "output_type": "stream",
       "stream": "stdout",
       "text": [
        "1 loops, best of 3: 288 ms per loop\n"
       ]
      }
     ],
     "prompt_number": 18
    },
    {
     "cell_type": "code",
     "collapsed": false,
     "input": [
      "np.random.seed(42)\n",
      "true_x_0 = _hel_to_gc(np.random.normal(data, data_errors))\n",
      "potential_params = ['q1']\n",
      "\n",
      "Ls = []\n",
      "vals = np.linspace(0.7,1.3,11)*1.38\n",
      "for q1 in vals:\n",
      "    p = [q1] + \\\n",
      "        list(true_x_0.ravel()) + \\\n",
      "        [3000]*Nparticles\n",
      "    \n",
      "    Ls.append(back_integrate_likelihood(p, potential_params, satellite, \n",
      "                              data, data_errors, \n",
      "                              LawMajewski2010, t1, t2))\n",
      "\n",
      "plot(vals, Ls)"
     ],
     "language": "python",
     "metadata": {},
     "outputs": [
      {
       "metadata": {},
       "output_type": "pyout",
       "prompt_number": 19,
       "text": [
        "[<matplotlib.lines.Line2D at 0x10fd8bfd0>]"
       ]
      },
      {
       "metadata": {},
       "output_type": "display_data",
       "png": "[encoded data removed]",
       "text": [
        "<matplotlib.figure.Figure at 0x110211f90>"
       ]
      }
     ],
     "prompt_number": 19
    },
    {
     "cell_type": "code",
     "collapsed": false,
     "input": [],
     "language": "python",
     "metadata": {},
     "outputs": [],
     "prompt_number": 6
    },
    {
     "cell_type": "code",
     "collapsed": false,
     "input": [],
     "language": "python",
     "metadata": {},
     "outputs": []
    },
    {
     "cell_type": "code",
     "collapsed": false,
     "input": [
      "from astropy.io.misc import fnunpickle"
     ],
     "language": "python",
     "metadata": {},
     "outputs": [],
     "prompt_number": 29
    },
    {
     "cell_type": "code",
     "collapsed": false,
     "input": [
      "sampler = fnunpickle(\"/Users/adrian/Downloads/sampler_data.pickle\")"
     ],
     "language": "python",
     "metadata": {},
     "outputs": [],
     "prompt_number": 30
    },
    {
     "cell_type": "code",
     "collapsed": false,
     "input": [
      "print (220.*u.km/u.s).to(u.kpc/u.Myr)"
     ],
     "language": "python",
     "metadata": {},
     "outputs": [
      {
       "output_type": "stream",
       "stream": "stdout",
       "text": [
        "0.224996676312 kpc / Myr\n"
       ]
      }
     ],
     "prompt_number": 56
    },
    {
     "cell_type": "code",
     "collapsed": false,
     "input": [
      "mu = np.array([11.5, 71.24])\n",
      "sg = np.array([0.47, 1.513])\n",
      "\n",
      "def one(x):\n",
      "    x = np.array(x)\n",
      "    return 1./np.sqrt(np.prod(sg**2)) * np.exp(-0.5 * np.sum( (x-mu)**2/sg**2))\n",
      "\n",
      "def two(x):\n",
      "    x = np.array(x)\n",
      "    return np.exp(-0.5 * np.sum(2*np.log(sg) + (x-mu)**2/sg**2))"
     ],
     "language": "python",
     "metadata": {},
     "outputs": [],
     "prompt_number": 65
    },
    {
     "cell_type": "code",
     "collapsed": false,
     "input": [
      "print one([11., 70.])\n",
      "print two([11., 70.])"
     ],
     "language": "python",
     "metadata": {},
     "outputs": [
      {
       "output_type": "stream",
       "stream": "stdout",
       "text": [
        "0.570763035925\n",
        "0.570763035925\n"
       ]
      }
     ],
     "prompt_number": 66
    },
    {
     "cell_type": "markdown",
     "metadata": {},
     "source": [
      "----"
     ]
    },
    {
     "cell_type": "code",
     "collapsed": false,
     "input": [
      "import copy\n",
      "import emcee\n",
      "from streams import usys\n",
      "from streams.potential.lm10 import LawMajewski2010\n",
      "from streams.io.sgr import mass_selector\n",
      "from streams.observation.gaia import RRLyraeErrorModel\n",
      "from streams.inference import Parameter, StreamModel, LogUniformPrior\n",
      "from streams.coordinates import _gc_to_hel, _hel_to_gc"
     ],
     "language": "python",
     "metadata": {},
     "outputs": [],
     "prompt_number": 2
    },
    {
     "cell_type": "code",
     "collapsed": false,
     "input": [
      "np.random.seed(52)\n",
      "Nparticles = 10\n",
      "\n",
      "particles_today, satellite_today, time = mass_selector(\"2.5e8\")\n",
      "satellite = satellite_today()\n",
      "__particles = particles_today(N=Nparticles, expr=\"tub!=0\")\n",
      "t1,t2 = time()\n",
      "true_potential = LawMajewski2010()"
     ],
     "language": "python",
     "metadata": {},
     "outputs": [],
     "prompt_number": 11
    },
    {
     "cell_type": "code",
     "collapsed": false,
     "input": [
      "error_model = RRLyraeErrorModel(units=usys, factor=1.)\n",
      "obs_data, obs_error = __particles.observe(error_model)"
     ],
     "language": "python",
     "metadata": {},
     "outputs": [],
     "prompt_number": 12
    },
    {
     "cell_type": "code",
     "collapsed": false,
     "input": [
      "_particles = copy.deepcopy(__particles)\n",
      "potential = LawMajewski2010()\n",
      "\n",
      "print(potential.q2.value)"
     ],
     "language": "python",
     "metadata": {},
     "outputs": [
      {
       "output_type": "stream",
       "stream": "stdout",
       "text": [
        "1.0 \n"
       ]
      }
     ],
     "prompt_number": 13
    },
    {
     "cell_type": "code",
     "collapsed": false,
     "input": [
      "# Single parameter:\n",
      "_particles = copy.deepcopy(__particles)\n",
      "potential = LawMajewski2010()\n",
      "p = potential.q2\n",
      "\n",
      "params = []\n",
      "params.append(Parameter(target=p,\n",
      "                        attr=\"_value\",\n",
      "                        ln_prior=LogUniformPrior(*p._range)))\n",
      "params.append(Parameter(target=_particles,\n",
      "                        attr=\"flat_X\"))\n",
      "params.append(Parameter(target=_particles,\n",
      "                        attr=\"tub\"))\n",
      "\n",
      "model = StreamModel(potential, satellite, _particles,\n",
      "                    obs_data, obs_error, parameters=params)\n",
      "\n",
      "#sampled_X = np.ravel(_hel_to_gc(np.random.normal(obs_data, obs_error)))\n",
      "sampled_X = np.ravel(_particles._X) # true\n",
      "\n",
      "#tub = _particles.tub + 1000.\n",
      "tub = np.array(_particles.tub) # true\n",
      "\n",
      "Ls = []\n",
      "vals = np.linspace(0.8, 1.2, 31)*p._truth\n",
      "for q in vals:\n",
      "    Ls.append(model([q] + list(sampled_X) + list(tub), t1, t2, -1.))\n",
      "\n",
      "figure()\n",
      "plot(vals, Ls)\n",
      "axvline(p._truth, color='r')\n",
      "ylabel(\"ln likelihood\", fontsize=24)\n",
      "xlabel(p.latex, fontsize=24)"
     ],
     "language": "python",
     "metadata": {},
     "outputs": [
      {
       "metadata": {},
       "output_type": "pyout",
       "prompt_number": 14,
       "text": [
        "<matplotlib.text.Text at 0x109b50190>"
       ]
      },
      {
       "metadata": {},
       "output_type": "display_data",
       "png": "[encoded data removed]",
       "text": [
        "<matplotlib.figure.Figure at 0x10a31f5d0>"
       ]
      }
     ],
     "prompt_number": 14
    },
    {
     "cell_type": "markdown",
     "metadata": {},
     "source": [
      "First the potential parameters:"
     ]
    },
    {
     "cell_type": "code",
     "collapsed": false,
     "input": [
      "# all params\n",
      "fig = plt.figure()\n",
      "ax = fig.add_subplot(111)\n",
      "\n",
      "for p_name in true_potential.parameters.keys():\n",
      "    _particles = copy.deepcopy(__particles)\n",
      "    potential = LawMajewski2010()\n",
      "    p = potential.parameters[p_name]\n",
      "    \n",
      "    params = []\n",
      "    params.append(Parameter(target=p,\n",
      "                            attr=\"_value\",\n",
      "                            ln_prior=LogUniformPrior(*p._range)))\n",
      "    params.append(Parameter(target=_particles,\n",
      "                            attr=\"flat_X\"))\n",
      "    params.append(Parameter(target=_particles,\n",
      "                            attr=\"tub\"))\n",
      "    \n",
      "    model = StreamModel(potential, satellite, _particles,\n",
      "                        obs_data, obs_error, parameters=params)\n",
      "    \n",
      "    #sampled_X = np.ravel(_hel_to_gc(np.random.normal(obs_data, obs_error)))\n",
      "    sampled_X = np.ravel(_particles._X) # true\n",
      "    \n",
      "    #tub = _particles.tub + 1000.\n",
      "    tub = _particles.tub # true\n",
      "    \n",
      "    Ls = []\n",
      "    vals = np.linspace(0.8, 1.2, 31)*p._truth\n",
      "    for q in vals:\n",
      "        Ls.append(model([q] + list(sampled_X) + list(tub), t1, t2, -1.))\n",
      "    \n",
      "    ax.cla()\n",
      "    ax.plot(vals, Ls)\n",
      "    ax.axvline(p._truth, color='r')\n",
      "    ax.set_ylabel(\"ln likelihood\", fontsize=24)\n",
      "    ax.set_xlabel(p.latex, fontsize=24)\n",
      "    fig.savefig(\"/Users/adrian/projects/streams/plots/likelihood_slices/{0}.png\".format(p_name))"
     ],
     "language": "python",
     "metadata": {},
     "outputs": [
      {
       "metadata": {},
       "output_type": "display_data",
       "png": "[encoded data removed]",
       "text": [
        "<matplotlib.figure.Figure at 0x1286869d0>"
       ]
      }
     ],
     "prompt_number": 10
    },
    {
     "cell_type": "code",
     "collapsed": false,
     "input": [
      "for ii in [3]: #range(Nparticles*6):\n",
      "    _particles = copy.deepcopy(__particles)\n",
      "    potential = LawMajewski2010()\n",
      "    p = potential.q1\n",
      "    \n",
      "    params = []\n",
      "    params.append(Parameter(target=p,\n",
      "                            attr=\"_value\",\n",
      "                            ln_prior=LogUniformPrior(*p._range)))\n",
      "    params.append(Parameter(target=_particles,\n",
      "                            attr=\"flat_X\"))\n",
      "    params.append(Parameter(target=_particles,\n",
      "                            attr=\"tub\"))\n",
      "    \n",
      "    model = StreamModel(potential, satellite, _particles,\n",
      "                        obs_data, obs_error, parameters=params)\n",
      "    \n",
      "    true_sampled_X = np.array(_particles.flat_X)\n",
      "    sampled_X = np.array(_particles.flat_X)\n",
      "    \n",
      "    tub = _particles.tub\n",
      "    \n",
      "    Ls = []\n",
      "    vals = np.linspace(0.8, 1.2, 31)*true_sampled_X[ii]\n",
      "    for v in vals:\n",
      "        sampled_X[ii] = v\n",
      "        Ls.append(model([p._truth] + list(sampled_X) + list(tub), t1, t2, -1.))\n",
      "    \n",
      "    ax.cla()\n",
      "    ax.plot(vals, Ls)\n",
      "    ax.axvline(true_sampled_X[ii], color='r')\n",
      "    ax.set_ylabel(\"ln likelihood\", fontsize=24)\n",
      "    ax.set_xlabel(\"particle {0}, dim {1}\".format(int(ii / 6), ii % 6), fontsize=24)\n",
      "    fig.savefig(\"/Users/adrian/projects/streams/plots/likelihood_slices/particle_{0}_dim{1}.png\".format(int(ii / 6), ii % 6))"
     ],
     "language": "python",
     "metadata": {},
     "outputs": [],
     "prompt_number": 25
    },
    {
     "cell_type": "code",
     "collapsed": false,
     "input": [
      "for ii in range(Nparticles):\n",
      "    _particles = copy.deepcopy(__particles)\n",
      "    potential = LawMajewski2010()\n",
      "    p = potential.q1\n",
      "    \n",
      "    params = []\n",
      "    params.append(Parameter(target=p,\n",
      "                            attr=\"_value\",\n",
      "                            ln_prior=LogUniformPrior(*p._range)))\n",
      "    params.append(Parameter(target=_particles,\n",
      "                            attr=\"flat_X\"))\n",
      "    params.append(Parameter(target=_particles,\n",
      "                            attr=\"tub\"))\n",
      "    \n",
      "    model = StreamModel(potential, satellite, _particles,\n",
      "                        obs_data, obs_error, parameters=params)\n",
      "    \n",
      "    sampled_X = np.array(_particles.flat_X)\n",
      "    \n",
      "    true_tub = np.array(_particles.tub)\n",
      "    tub = _particles.tub\n",
      "    \n",
      "    Ls = []\n",
      "    vals = np.linspace(0.8, 1.2, 31)*true_tub[ii]\n",
      "    for v in vals:\n",
      "        tub[ii] = v\n",
      "        Ls.append(model([p._truth] + list(sampled_X) + list(tub), t1, t2, -1.))\n",
      "    \n",
      "    ax.cla()\n",
      "    ax.plot(vals, Ls)\n",
      "    ax.axvline(true_tub[ii], color='r')\n",
      "    ax.set_ylabel(\"ln likelihood\", fontsize=24)\n",
      "    ax.set_xlabel(\"particle {0}, tub\".format(ii), fontsize=24)\n",
      "    fig.savefig(\"/Users/adrian/projects/streams/plots/likelihood_slices/tub_particle_{0}.png\".format(ii))"
     ],
     "language": "python",
     "metadata": {},
     "outputs": [],
     "prompt_number": 24
    },
    {
     "cell_type": "code",
     "collapsed": false,
     "input": [
      "%timeit model([q] + list(_particles.flat_X), t1, t2, -1.)"
     ],
     "language": "python",
     "metadata": {},
     "outputs": [
      {
       "output_type": "stream",
       "stream": "stdout",
       "text": [
        "1000 loops, best of 3: 191 \u00b5s per loop\n"
       ]
      }
     ],
     "prompt_number": 4
    },
    {
     "cell_type": "markdown",
     "metadata": {},
     "source": [
      "---"
     ]
    }
   ],
   "metadata": {}
  }
 ]
}