{
 "metadata": {
  "name": "",
  "signature": "sha256:d54b258c58b8cf3bf6421f3b13e035ad9a60e0033e0c740989ee77f8961b9d4e"
 },
 "nbformat": 3,
 "nbformat_minor": 0,
 "worksheets": [
  {
   "cells": [
    {
     "cell_type": "code",
     "collapsed": false,
     "input": [
      "from __future__ import division, print_function\n",
      "\n",
      "# Third-party\n",
      "from astropy import log as logger\n",
      "import emcee\n",
      "import matplotlib.pyplot as plt\n",
      "import numpy as np\n",
      "from scipy.stats import norm\n",
      "from scipy.misc import logsumexp\n",
      "import triangle\n",
      "%matplotlib inline\n",
      "\n",
      "# Custom\n",
      "import streams.coordinates as stc\n",
      "import streamteam.io as io\n",
      "import streamteam.dynamics as sd\n",
      "import streamteam.potential as sp\n",
      "from streamteam.units import galactic"
     ],
     "language": "python",
     "metadata": {},
     "outputs": [],
     "prompt_number": 1
    },
    {
     "cell_type": "code",
     "collapsed": false,
     "input": [
      "potential = sp.LeeSutoNFWPotential(v_h=0.5, r_h=20., \n",
      "                                   a=1., b=1., c=1., units=galactic)"
     ],
     "language": "python",
     "metadata": {},
     "outputs": [],
     "prompt_number": 2
    },
    {
     "cell_type": "code",
     "collapsed": false,
     "input": [
      "def true_m_enc(potential, r):\n",
      "    rh = potential.parameters['r_h']\n",
      "    vh = potential.parameters['v_h']\n",
      "    G = potential.c_instance.G\n",
      "    rr = r/rh\n",
      "    \n",
      "    return rh*vh**2/G * (np.log(1+rr) - rr/(1+rr))"
     ],
     "language": "python",
     "metadata": {},
     "outputs": [],
     "prompt_number": 3
    },
    {
     "cell_type": "code",
     "collapsed": false,
     "input": [
      "def est_m_enc(potential, xyz):\n",
      "    G = potential.c_instance.G    \n",
      "    \n",
      "    r = np.linalg.norm(xyz, axis=-1)\n",
      "    h = 0.01\n",
      "    epsilon = h * xyz/r[:,None]\n",
      "    dPhi_dr = (potential.value(xyz + epsilon) - potential.value(xyz - epsilon)) / (2*h)\n",
      "    print(h)\n",
      "    \n",
      "    return np.abs(1/G * r**2 * dPhi_dr)\n",
      "\n",
      "def est_m_enc_cy(potential, q):\n",
      "    G = potential.c_instance.G\n",
      "    epsilon = np.empty((1,3))\n",
      "    mass = np.zeros(len(q))\n",
      "    for i in range(len(q)):\n",
      "\n",
      "        # Step-size for estimating radial gradient of the potential\n",
      "        r = np.sqrt(q[i,0]*q[i,0] + q[i,1]*q[i,1] + q[i,2]*q[i,2])\n",
      "\n",
      "        h = 0.01\n",
      "        \n",
      "        for j in range(3):\n",
      "            epsilon[0,j] = h * q[i,j]/r + q[i,j]\n",
      "        dPhi_dr = potential.value(epsilon)\n",
      "\n",
      "        for j in range(3):\n",
      "            epsilon[0,j] = h * q[i,j]/r - q[i,j]\n",
      "        dPhi_dr = dPhi_dr - potential.value(epsilon)\n",
      "        \n",
      "        dPhi_dr /= (2*h)\n",
      "        \n",
      "        mass[i] = np.abs(r*r * dPhi_dr / G)\n",
      "    \n",
      "    return mass"
     ],
     "language": "python",
     "metadata": {},
     "outputs": [],
     "prompt_number": 4
    },
    {
     "cell_type": "code",
     "collapsed": false,
     "input": [
      "rs = np.linspace(10.,200.,25)\n",
      "xs = np.zeros((len(rs),3))\n",
      "xs[:,0] = rs\n",
      "\n",
      "mass = true_m_enc(potential, rs)\n",
      "mass_appx = est_m_enc(potential, xs)\n",
      "mass_cy = est_m_enc_cy(potential, xs)\n",
      "mass_cls = potential.c_instance.mass_enclosed(xs)\n",
      "plt.plot(rs, mass, marker=None)\n",
      "plt.plot(rs, mass_appx, linestyle='none', marker='o')\n",
      "plt.plot(rs, mass_cy, linestyle='none', marker='o')\n",
      "plt.plot(rs, mass_cls, linestyle='none', marker='o')"
     ],
     "language": "python",
     "metadata": {},
     "outputs": [
      {
       "output_type": "stream",
       "stream": "stdout",
       "text": [
        "0.01\n"
       ]
      },
      {
       "metadata": {},
       "output_type": "pyout",
       "prompt_number": 5,
       "text": [
        "[<matplotlib.lines.Line2D at 0x10af855d0>]"
       ]
      },
      {
       "metadata": {},
       "output_type": "display_data",
       "png": "[encoded data removed]",
       "text": [
        "<matplotlib.figure.Figure at 0x10aee8fd0>"
       ]
      }
     ],
     "prompt_number": 5
    },
    {
     "cell_type": "code",
     "collapsed": false,
     "input": [],
     "language": "python",
     "metadata": {},
     "outputs": [],
     "prompt_number": 5
    }
   ],
   "metadata": {}
  }
 ]
}